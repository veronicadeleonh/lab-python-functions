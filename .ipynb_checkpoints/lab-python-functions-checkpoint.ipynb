{
 "cells": [
  {
   "cell_type": "markdown",
   "id": "25d7736c-ba17-4aff-b6bb-66eba20fbf4e",
   "metadata": {},
   "source": [
    "# Lab | Functions"
   ]
  },
  {
   "cell_type": "markdown",
   "id": "0c581062-8967-4d93-b06e-62833222f930",
   "metadata": {
    "tags": []
   },
   "source": [
    "## Exercise: Managing Customer Orders with Functions\n",
    "\n",
    "In the previous exercise, you improved the code for managing customer orders by using loops and flow control. Now, let's take it a step further and refactor the code by introducing functions.\n",
    "\n",
    "Follow the steps below to complete the exercise:\n",
    "\n",
    "1. Define a function named `initialize_inventory` that takes `products` as a parameter. Inside the function, implement the code for initializing the inventory dictionary using a loop and user input.\n",
    "\n",
    "2. Define a function named `get_customer_orders` that takes no parameters. Inside the function, implement the code for prompting the user to enter the product names using a loop. The function should return the `customer_orders` set.\n",
    "\n",
    "3. Define a function named `update_inventory` that takes `customer_orders` and `inventory` as parameters. Inside the function, implement the code for updating the inventory dictionary based on the customer orders.\n",
    "\n",
    "4. Define a function named `calculate_order_statistics` that takes `customer_orders` and `products` as parameters. Inside the function, implement the code for calculating the order statistics (total products ordered, and percentage of unique products ordered). The function should return these values.\n",
    "\n",
    "5. Define a function named `print_order_statistics` that takes `order_statistics` as a parameter. Inside the function, implement the code for printing the order statistics.\n",
    "\n",
    "6. Define a function named `print_updated_inventory` that takes `inventory` as a parameter. Inside the function, implement the code for printing the updated inventory.\n",
    "\n",
    "7. Call the functions in the appropriate sequence to execute the program and manage customer orders.\n",
    "\n",
    "Hints for functions:\n",
    "\n",
    "- Consider the input parameters required for each function and their return values.\n",
    "- Utilize function parameters and return values to transfer data between functions.\n",
    "- Test your functions individually to ensure they work correctly.\n",
    "\n",
    "\n"
   ]
  },
  {
   "cell_type": "code",
   "execution_count": 43,
   "id": "9772707c-dd0c-44de-9e93-6cf6bea8abc9",
   "metadata": {},
   "outputs": [
    {
     "name": "stdin",
     "output_type": "stream",
     "text": [
      "Enter the quatity of t-shirt 5\n",
      "Enter the quatity of mug 2\n",
      "Enter the quatity of hat 6\n",
      "Enter the quatity of book 2\n",
      "Enter the quatity of keychain 1\n"
     ]
    }
   ],
   "source": [
    "# 1\n",
    "products = [\"t-shirt\", \"mug\", \"hat\", \"book\", \"keychain\"]\n",
    "quantities = []\n",
    "inventory = {}\n",
    "customer_orders = set()\n",
    "\n",
    "def initialize_inventory(products):\n",
    "    for i in products:\n",
    "        quantity_input = int(input(f\"Enter the quatity of {i}\"))\n",
    "        quantities.append(quantity_input)\n",
    "        inventory[i] = None\n",
    "\n",
    "    for key,value in zip(inventory, quantities):\n",
    "        inventory[key] = value\n",
    "    \n",
    "\n",
    "initialize_inventory(products)    "
   ]
  },
  {
   "cell_type": "code",
   "execution_count": 47,
   "id": "60c0b0c4-be87-4892-8fec-ecf7409c1993",
   "metadata": {},
   "outputs": [
    {
     "ename": "SyntaxError",
     "evalue": "'return' outside function (3170839179.py, line 15)",
     "output_type": "error",
     "traceback": [
      "\u001b[0;36m  Cell \u001b[0;32mIn[47], line 15\u001b[0;36m\u001b[0m\n\u001b[0;31m    return customer_oders\u001b[0m\n\u001b[0m    ^\u001b[0m\n\u001b[0;31mSyntaxError\u001b[0m\u001b[0;31m:\u001b[0m 'return' outside function\n"
     ]
    }
   ],
   "source": [
    "#2\n",
    "\n",
    "def get_customer_orders():\n",
    "    while add_more == \"yes\":\n",
    "        order_input = input(\"Which product would you like to buy?:\")\n",
    "    \n",
    "        if order_input in products:\n",
    "            customer_orders.add(order_input)\n",
    "            print(f\"{order_input} has been added to your order list.\")\n",
    "        else:\n",
    "            print(f\"'{order_input}' is not available. Choose a product from the list ({', '.join(products)})\")\n",
    "        \n",
    "        add_more = input(\"Would you like to add another product? (yes/no): \").lower()\n",
    "        \n",
    "    return customer_oders{}"
   ]
  },
  {
   "cell_type": "code",
   "execution_count": null,
   "id": "b200572a-a14b-410a-acc1-e8b933709e0b",
   "metadata": {},
   "outputs": [],
   "source": []
  }
 ],
 "metadata": {
  "kernelspec": {
   "display_name": "Python 3 (ipykernel)",
   "language": "python",
   "name": "python3"
  },
  "language_info": {
   "codemirror_mode": {
    "name": "ipython",
    "version": 3
   },
   "file_extension": ".py",
   "mimetype": "text/x-python",
   "name": "python",
   "nbconvert_exporter": "python",
   "pygments_lexer": "ipython3",
   "version": "3.12.7"
  }
 },
 "nbformat": 4,
 "nbformat_minor": 5
}
