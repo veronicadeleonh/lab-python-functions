{
 "cells": [
  {
   "cell_type": "markdown",
   "id": "25d7736c-ba17-4aff-b6bb-66eba20fbf4e",
   "metadata": {},
   "source": [
    "# Lab | Functions"
   ]
  },
  {
   "cell_type": "markdown",
   "id": "0c581062-8967-4d93-b06e-62833222f930",
   "metadata": {
    "tags": []
   },
   "source": [
    "## Exercise: Managing Customer Orders with Functions\n",
    "\n",
    "In the previous exercise, you improved the code for managing customer orders by using loops and flow control. Now, let's take it a step further and refactor the code by introducing functions.\n",
    "\n",
    "Follow the steps below to complete the exercise:\n",
    "\n",
    "1. Define a function named `initialize_inventory` that takes `products` as a parameter. Inside the function, implement the code for initializing the inventory dictionary using a loop and user input.\n",
    "\n",
    "2. Define a function named `get_customer_orders` that takes no parameters. Inside the function, implement the code for prompting the user to enter the product names using a loop. The function should return the `customer_orders` set.\n",
    "\n",
    "3. Define a function named `update_inventory` that takes `customer_orders` and `inventory` as parameters. Inside the function, implement the code for updating the inventory dictionary based on the customer orders.\n",
    "\n",
    "4. Define a function named `calculate_order_statistics` that takes `customer_orders` and `products` as parameters. Inside the function, implement the code for calculating the order statistics (total products ordered, and percentage of unique products ordered). The function should return these values.\n",
    "\n",
    "5. Define a function named `print_order_statistics` that takes `order_statistics` as a parameter. Inside the function, implement the code for printing the order statistics.\n",
    "\n",
    "6. Define a function named `print_updated_inventory` that takes `inventory` as a parameter. Inside the function, implement the code for printing the updated inventory.\n",
    "\n",
    "7. Call the functions in the appropriate sequence to execute the program and manage customer orders.\n",
    "\n",
    "Hints for functions:\n",
    "\n",
    "- Consider the input parameters required for each function and their return values.\n",
    "- Utilize function parameters and return values to transfer data between functions.\n",
    "- Test your functions individually to ensure they work correctly.\n",
    "\n",
    "\n"
   ]
  },
  {
   "cell_type": "code",
   "execution_count": 82,
   "id": "9772707c-dd0c-44de-9e93-6cf6bea8abc9",
   "metadata": {},
   "outputs": [],
   "source": [
    "# 1\n",
    "from pprint import pprint\n",
    "\n",
    "products = [\"t-shirt\", \"mug\", \"hat\", \"book\", \"keychain\"]\n",
    "quantities = []\n",
    "inventory = {}\n",
    "customer_orders = set()\n",
    "\n",
    "def initialize_inventory(products):\n",
    "    for i in products:\n",
    "        quantity_input = int(input(f\"Enter the quatity of {i}\"))\n",
    "        quantities.append(quantity_input)\n",
    "        inventory[i] = None\n",
    "\n",
    "    for key,value in zip(inventory, quantities):\n",
    "        inventory[key] = value"
   ]
  },
  {
   "cell_type": "code",
   "execution_count": 84,
   "id": "0bbe8cde-1ed7-4fc1-9558-d1e5425d6571",
   "metadata": {},
   "outputs": [
    {
     "name": "stdin",
     "output_type": "stream",
     "text": [
      "Enter the quatity of t-shirt 45\n",
      "Enter the quatity of mug 85\n",
      "Enter the quatity of hat 41\n",
      "Enter the quatity of book 20\n",
      "Enter the quatity of keychain 1\n"
     ]
    }
   ],
   "source": [
    "initialize_inventory(products)"
   ]
  },
  {
   "cell_type": "code",
   "execution_count": 86,
   "id": "60c0b0c4-be87-4892-8fec-ecf7409c1993",
   "metadata": {},
   "outputs": [],
   "source": [
    "#2\n",
    "\n",
    "def get_customer_orders():\n",
    "\n",
    "    add_more = \"yes\"\n",
    "    \n",
    "    while add_more == \"yes\":\n",
    "        order_input = input(\"Which product would you like to buy?:\")\n",
    "    \n",
    "        if order_input in products:\n",
    "            customer_orders.add(order_input)\n",
    "            print(f\"{order_input} has been added to your order list.\")\n",
    "        else:\n",
    "            print(f\"{order_input} is not between our products. Choose a product from the list ({', '.join(products)})\")\n",
    "        \n",
    "        add_more = input(\"Would you like to add another product? (yes/no): \").lower()\n",
    "\n",
    "        if add_more == \"no\":\n",
    "            print(\"Thanks for your purchase :)\")\n",
    "\n",
    "        \n",
    "    return(customer_orders)"
   ]
  },
  {
   "cell_type": "code",
   "execution_count": 94,
   "id": "1f797079-eb35-4a29-bd86-bb9f49214f17",
   "metadata": {},
   "outputs": [
    {
     "name": "stdin",
     "output_type": "stream",
     "text": [
      "Which product would you like to buy?: mug\n"
     ]
    },
    {
     "name": "stdout",
     "output_type": "stream",
     "text": [
      "mug has been added to your order list.\n"
     ]
    },
    {
     "name": "stdin",
     "output_type": "stream",
     "text": [
      "Would you like to add another product? (yes/no):  yes\n",
      "Which product would you like to buy?: book\n"
     ]
    },
    {
     "name": "stdout",
     "output_type": "stream",
     "text": [
      "book has been added to your order list.\n"
     ]
    },
    {
     "name": "stdin",
     "output_type": "stream",
     "text": [
      "Would you like to add another product? (yes/no):  yes\n",
      "Which product would you like to buy?: hat\n"
     ]
    },
    {
     "name": "stdout",
     "output_type": "stream",
     "text": [
      "hat has been added to your order list.\n"
     ]
    },
    {
     "name": "stdin",
     "output_type": "stream",
     "text": [
      "Would you like to add another product? (yes/no):  no\n"
     ]
    },
    {
     "name": "stdout",
     "output_type": "stream",
     "text": [
      "Thanks for your purchase :)\n"
     ]
    },
    {
     "data": {
      "text/plain": [
       "{'book', 'hat', 'mug'}"
      ]
     },
     "execution_count": 94,
     "metadata": {},
     "output_type": "execute_result"
    }
   ],
   "source": [
    "get_customer_orders()"
   ]
  },
  {
   "cell_type": "code",
   "execution_count": 96,
   "id": "3a0ce640-0c23-45b0-bdc6-66dd00ffc218",
   "metadata": {},
   "outputs": [],
   "source": [
    "#3\n",
    "\n",
    "def update_inventory(customer_orders, inventory):\n",
    "\n",
    "    for product in customer_orders:\n",
    "        if product in inventory:\n",
    "            inventory[product] -= 1\n",
    "    return inventory"
   ]
  },
  {
   "cell_type": "code",
   "execution_count": 98,
   "id": "679f9ec7-583b-4214-987a-c454b8016c3b",
   "metadata": {},
   "outputs": [
    {
     "data": {
      "text/plain": [
       "{'t-shirt': 45, 'mug': 83, 'hat': 40, 'book': 18, 'keychain': 1}"
      ]
     },
     "execution_count": 98,
     "metadata": {},
     "output_type": "execute_result"
    }
   ],
   "source": [
    "update_inventory(customer_orders, inventory)"
   ]
  },
  {
   "cell_type": "code",
   "execution_count": 104,
   "id": "35c25011-0552-4263-b3c3-46052f65647d",
   "metadata": {},
   "outputs": [],
   "source": [
    "#4 \n",
    "\n",
    "def calculate_order_statistics(customer_orders, products):\n",
    "\n",
    "    total_products_ordered = len(customer_orders)\n",
    "    unique_products = list(dict.fromkeys(customer_orders))\n",
    "    total_of_products = len(products)\n",
    "    \n",
    "    percentage_unique_products = {len(unique_products)/len(products)}\n",
    "\n",
    "    order_statistics = (total_products_ordered, percentage_unique_products)\n",
    "\n",
    "    return order_statistics\n",
    "\n",
    "    "
   ]
  },
  {
   "cell_type": "code",
   "execution_count": 106,
   "id": "2c80feed-2133-40cf-a333-538d8ea7ed84",
   "metadata": {},
   "outputs": [
    {
     "data": {
      "text/plain": [
       "(3, {0.6})"
      ]
     },
     "execution_count": 106,
     "metadata": {},
     "output_type": "execute_result"
    }
   ],
   "source": [
    "calculate_order_statistics(customer_orders, products)"
   ]
  },
  {
   "cell_type": "code",
   "execution_count": 108,
   "id": "c9c81c31-b57a-4e10-84c9-225cc42556b0",
   "metadata": {},
   "outputs": [],
   "source": [
    "#5\n",
    "\n",
    "order_statistics = calculate_order_statistics(customer_orders, products)\n",
    "\n",
    "def print_order_statistics(order_statistics):\n",
    "    print(order_statistics)"
   ]
  },
  {
   "cell_type": "code",
   "execution_count": 110,
   "id": "07695e30-ce97-4b0a-b2e5-3d70792f1633",
   "metadata": {},
   "outputs": [
    {
     "name": "stdout",
     "output_type": "stream",
     "text": [
      "(3, {0.6})\n"
     ]
    }
   ],
   "source": [
    "print_order_statistics(order_statistics)"
   ]
  },
  {
   "cell_type": "code",
   "execution_count": 160,
   "id": "d58e9098-371c-43e4-b201-466d00482195",
   "metadata": {},
   "outputs": [],
   "source": [
    "#6\n",
    "\n",
    "def print_updated_inventory(inventory):\n",
    "\n",
    "    print(\"Here is your updated inventory:\")\n",
    "    [print(f'{product}: {quantity}') for product, quantity in inventory.items()]\n",
    "   \n"
   ]
  },
  {
   "cell_type": "code",
   "execution_count": 162,
   "id": "469fa8a9-c0d9-4ed5-9b79-d5e9699ec70f",
   "metadata": {},
   "outputs": [
    {
     "name": "stdout",
     "output_type": "stream",
     "text": [
      "Here is your updated inventory:\n",
      "t-shirt: 45\n",
      "mug: 83\n",
      "hat: 40\n",
      "book: 18\n",
      "keychain: 1\n"
     ]
    }
   ],
   "source": [
    "print_updated_inventory(inventory)"
   ]
  },
  {
   "cell_type": "code",
   "execution_count": 164,
   "id": "4c913263-2ce1-44ff-ac70-ba2f304f2e9b",
   "metadata": {},
   "outputs": [
    {
     "name": "stdin",
     "output_type": "stream",
     "text": [
      "Enter the quatity of t-shirt 45\n",
      "Enter the quatity of mug 487\n",
      "Enter the quatity of hat 52\n",
      "Enter the quatity of book 10\n",
      "Enter the quatity of keychain 0\n",
      "Which product would you like to buy?: ug\n"
     ]
    },
    {
     "name": "stdout",
     "output_type": "stream",
     "text": [
      "ug is not between our products. Choose a product from the list (t-shirt, mug, hat, book, keychain)\n"
     ]
    },
    {
     "name": "stdin",
     "output_type": "stream",
     "text": [
      "Would you like to add another product? (yes/no):  yes\n",
      "Which product would you like to buy?: book\n"
     ]
    },
    {
     "name": "stdout",
     "output_type": "stream",
     "text": [
      "book has been added to your order list.\n"
     ]
    },
    {
     "name": "stdin",
     "output_type": "stream",
     "text": [
      "Would you like to add another product? (yes/no):  no\n"
     ]
    },
    {
     "name": "stdout",
     "output_type": "stream",
     "text": [
      "Thanks for your purchase :)\n",
      "(3, {0.6})\n",
      "Here is your updated inventory:\n",
      "t-shirt: 45\n",
      "mug: 84\n",
      "hat: 40\n",
      "book: 19\n",
      "keychain: 1\n"
     ]
    }
   ],
   "source": [
    "#7 \n",
    "\n",
    "initialize_inventory(products)\n",
    "get_customer_orders()\n",
    "update_inventory(customer_orders, inventory)\n",
    "calculate_order_statistics(customer_orders, products)\n",
    "print_order_statistics(order_statistics)\n",
    "print_updated_inventory(inventory)\n"
   ]
  },
  {
   "cell_type": "code",
   "execution_count": null,
   "id": "111f64af-a66c-4695-8b10-6016e725065b",
   "metadata": {},
   "outputs": [],
   "source": []
  }
 ],
 "metadata": {
  "kernelspec": {
   "display_name": "Python 3 (ipykernel)",
   "language": "python",
   "name": "python3"
  },
  "language_info": {
   "codemirror_mode": {
    "name": "ipython",
    "version": 3
   },
   "file_extension": ".py",
   "mimetype": "text/x-python",
   "name": "python",
   "nbconvert_exporter": "python",
   "pygments_lexer": "ipython3",
   "version": "3.12.7"
  }
 },
 "nbformat": 4,
 "nbformat_minor": 5
}
